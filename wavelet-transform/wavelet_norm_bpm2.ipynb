{
 "cells": [
  {
   "cell_type": "code",
   "id": "initial_id",
   "metadata": {
    "collapsed": true,
    "ExecuteTime": {
     "end_time": "2024-11-18T12:14:50.059661Z",
     "start_time": "2024-11-18T12:14:49.417580Z"
    }
   },
   "source": [
    "import matplotlib.pyplot as plt\n",
    "import pywt  # pyWavelet library\n",
    "import pandas as pd"
   ],
   "execution_count": 1,
   "outputs": []
  },
  {
   "metadata": {
    "ExecuteTime": {
     "end_time": "2024-11-18T12:14:50.951072Z",
     "start_time": "2024-11-18T12:14:50.944065Z"
    }
   },
   "cell_type": "code",
   "source": [
    "norm_rates_file = 'C:/Users/benz/SynologyDrive/PycharmProjects/ToxitracAI/bpm_norm_rates200.csv'\n",
    "data = pd.read_csv(norm_rates_file)\n",
    "\n",
    "print(data.head())"
   ],
   "id": "bcbe5dea58fe22a8",
   "execution_count": 2,
   "outputs": []
  },
  {
   "metadata": {
    "ExecuteTime": {
     "end_time": "2024-11-18T12:14:58.659902Z",
     "start_time": "2024-11-18T12:14:58.656597Z"
    }
   },
   "cell_type": "code",
   "source": [
    "bpm_min = data['BPM min']\n",
    "bpm_max = data['BPM max']\n",
    "\n",
    "# Display the first few entries of each\n",
    "print(f'BPM min: {bpm_min.head()}')\n",
    "print(f'BPM max: {bpm_max.head()}')"
   ],
   "id": "3028ff2b68199ab0",
   "execution_count": 3,
   "outputs": []
  },
  {
   "metadata": {
    "ExecuteTime": {
     "end_time": "2024-11-18T12:15:07.985739Z",
     "start_time": "2024-11-18T12:15:07.981726Z"
    }
   },
   "cell_type": "code",
   "source": [
    "data['BPM max'] = pd.to_numeric(data['BPM max'], errors='coerce')\n",
    "bpm_data_max = data['BPM max'].dropna()  # .dropna() method in pandas is used to remove missing (NaN) values from a DataFrame or Series  (essential for data cleaning)\n",
    "\n",
    "# Apply DWT\n",
    "coeffs_1 = pywt.dwt(bpm_data_max, 'db1')\n",
    "cA_1, cD_1 = coeffs_1  # cA = Approximation coefficients, cD = Detail coefficients\n",
    "\n",
    "print(cA_1, cD_1)"
   ],
   "id": "ffe671285e25c190",
   "execution_count": 4,
   "outputs": []
  },
  {
   "metadata": {
    "ExecuteTime": {
     "end_time": "2024-11-18T12:15:19.007034Z",
     "start_time": "2024-11-18T12:15:18.789816Z"
    }
   },
   "cell_type": "code",
   "source": [
    "# plot signals\n",
    "plt.figure(figsize=(12, 8))\n",
    "\n",
    "plt.subplot(311)\n",
    "plt.plot(bpm_data_max.index, bpm_data_max, label='Original BPM max')\n",
    "plt.title('Original BPM Data')\n",
    "plt.legend()\n",
    "\n",
    "plt.subplot(312)\n",
    "plt.plot(cA_1, label='Approximation Coefficients')\n",
    "plt.title('Approximation Coefficients')\n",
    "plt.legend()\n",
    "\n",
    "plt.subplot(313)\n",
    "plt.plot(cD_1, label='Detail Coefficients')\n",
    "plt.title('Detail Coefficients')\n",
    "plt.legend()\n",
    "\n",
    "plt.tight_layout()\n",
    "plt.show()"
   ],
   "id": "157531c25820082a",
   "execution_count": 5,
   "outputs": []
  },
  {
   "metadata": {
    "ExecuteTime": {
     "end_time": "2024-11-18T12:15:26.295986Z",
     "start_time": "2024-11-18T12:15:26.126748Z"
    }
   },
   "cell_type": "code",
   "source": [
    "data['BPM min'] = pd.to_numeric(data['BPM min'], errors='coerce')\n",
    "bpm_data_min = data['BPM min'].dropna()\n",
    "\n",
    "# Apply DWT\n",
    "coeffs_2 = pywt.dwt(bpm_data_min, 'db1')\n",
    "cA_2, cD_2 = coeffs_2\n",
    "\n",
    "# plot signals\n",
    "plt.figure(figsize=(12, 8))\n",
    "\n",
    "plt.subplot(311)\n",
    "plt.plot(bpm_data_min.index, bpm_data_min, label='Original BPM min')\n",
    "plt.title('Original BPM Data')\n",
    "plt.legend()\n",
    "\n",
    "plt.subplot(312)\n",
    "plt.plot(cA_2, label='Approximation Coefficients')\n",
    "plt.title('Approximation Coefficients')\n",
    "plt.legend()\n",
    "\n",
    "plt.subplot(313)\n",
    "plt.plot(cD_2, label='Detail Coefficients')\n",
    "plt.title('Detail Coefficients')\n",
    "plt.legend()\n",
    "\n",
    "plt.tight_layout()\n",
    "plt.show()"
   ],
   "id": "edf650dc866a34fe",
   "execution_count": 6,
   "outputs": []
  },
  {
   "metadata": {
    "ExecuteTime": {
     "end_time": "2024-11-18T12:15:41.444349Z",
     "start_time": "2024-11-18T12:15:41.114484Z"
    }
   },
   "cell_type": "code",
   "source": [
    "# Convert and clean data\n",
    "data['BPM min'] = pd.to_numeric(data['BPM min'], errors='coerce').dropna()\n",
    "data['BPM max'] = pd.to_numeric(data['BPM max'], errors='coerce').dropna()\n",
    "\n",
    "# Apply DWT to both min and max\n",
    "coeffs_min = pywt.dwt(data['BPM min'], 'db1')\n",
    "coeffs_max = pywt.dwt(data['BPM max'], 'db1')\n",
    "\n",
    "cA_min, cD_min = coeffs_min\n",
    "cA_max, cD_max = coeffs_max\n",
    "\n",
    "# Create figure and axes\n",
    "fig, axs = plt.subplots(3, 2, figsize=(12, 10))  # 3 rows, 2 columns\n",
    "\n",
    "# Plotting original BPM data\n",
    "axs[0, 0].plot(data['BPM min'], label='Original BPM Min', color='blue')\n",
    "axs[0, 0].set_title('Original BPM Min')\n",
    "axs[0, 0].legend()\n",
    "\n",
    "axs[0, 1].plot(data['BPM max'], label='Original BPM Max', color='green')\n",
    "axs[0, 1].set_title('Original BPM Max')\n",
    "axs[0, 1].legend()\n",
    "\n",
    "# Plotting Approximation Coefficients\n",
    "axs[1, 0].plot(cA_min, label='Approximation Coefficients Min', color='blue')\n",
    "axs[1, 0].set_title('Approximation Coefficients Min')\n",
    "axs[1, 0].legend()\n",
    "\n",
    "axs[1, 1].plot(cA_max, label='Approximation Coefficients Max', color='green')\n",
    "axs[1, 1].set_title('Approximation Coefficients Max')\n",
    "axs[1, 1].legend()\n",
    "\n",
    "# Plotting Detail Coefficients\n",
    "axs[2, 0].plot(cD_min, label='Detail Coefficients Min', color='blue')\n",
    "axs[2, 0].set_title('Detail Coefficients Min')\n",
    "axs[2, 0].legend()\n",
    "\n",
    "axs[2, 1].plot(cD_max, label='Detail Coefficients Max', color='green')\n",
    "axs[2, 1].set_title('Detail Coefficients Max')\n",
    "axs[2, 1].legend()\n",
    "\n",
    "# Improve layout to prevent overlap\n",
    "plt.tight_layout()\n",
    "\n",
    "# Show plot\n",
    "plt.show()"
   ],
   "id": "764ca4b7c6b85c52",
   "execution_count": 7,
   "outputs": []
  },
  {
   "metadata": {},
   "cell_type": "code",
   "execution_count": null,
   "source": "",
   "id": "8553bc126872607e",
   "outputs": []
  }
 ],
 "metadata": {
  "kernelspec": {
   "display_name": "Python 3",
   "language": "python",
   "name": "python3"
  },
  "language_info": {
   "codemirror_mode": {
    "name": "ipython",
    "version": 2
   },
   "file_extension": ".py",
   "mimetype": "text/x-python",
   "name": "python",
   "nbconvert_exporter": "python",
   "pygments_lexer": "ipython2",
   "version": "2.7.6"
  }
 },
 "nbformat": 4,
 "nbformat_minor": 5
}
