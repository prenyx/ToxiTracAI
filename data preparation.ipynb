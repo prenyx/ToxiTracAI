{
 "cells": [
  {
   "metadata": {},
   "cell_type": "markdown",
   "source": [
    "# Prepare intoxicated datasets\n",
    "\n",
    "extract relevant features, such as BPM rates, from the ECG files and save them into a structured format, like a CSV file. This way, you’ll have a consolidated dataset that can be easily loaded, labeled, and used for training machine learning model.\n"
   ],
   "id": "7ccc6be2d08eb58"
  },
  {
   "metadata": {},
   "cell_type": "code",
   "outputs": [],
   "execution_count": null,
   "source": [
    "import os\n",
    "import numpy as np\n",
    "import pandas as pd\n",
    "import wfdb  # For handling ECG files\n",
    "from wfdb.processing import gqrs_detect  # R-peak detection\n",
    "from datetime import datetime\n",
    "\n",
    "# Directory containing the intoxicated ECG files\n",
    "intoxicated_data_dir = 'path/to/intoxicated/data'\n",
    "\n",
    "# Prepare a list to hold the extracted data\n",
    "intoxicated_data = []\n"
   ],
   "id": "1c01ac51089ae2f9"
  },
  {
   "metadata": {},
   "cell_type": "markdown",
   "source": [
    "\n",
    "\n",
    "## Step 1: Extract BPM Rates from ECG Files\n",
    "\n",
    "1. Detect `R-peaks`: Use peak detection algorithms to identify R-peaks in the ECG data. Each R-peak represents a heartbeat.\n",
    "2. Calculate `RR Intervals`: Measure the time intervals between consecutive R-peaks to get the RR intervals.\n",
    "3. Convert `RR Intervals to BPM`: Calculate the instantaneous BPM by using the formula:\n",
    "\n",
    "$$\n",
    "  BPM = \\frac{60}{\\text{RR interval in seconds}}\n",
    "$$\n"
   ],
   "id": "408857362a9b2ca8"
  },
  {
   "metadata": {},
   "cell_type": "markdown",
   "source": [
    "# Step 2: Aggregate BPM Statistics\n",
    "For each ECG file, you can calculate:\n",
    "\n",
    "- Minimum BPM: The lowest BPM in the time range of the recording.\n",
    "- Maximum BPM: The highest BPM in the time range of the recording.\n",
    "- Average BPM: The average BPM over the recording period."
   ],
   "id": "b496febcaea97164"
  },
  {
   "metadata": {},
   "cell_type": "code",
   "outputs": [],
   "execution_count": null,
   "source": [
    "# Process each ECG file in the directory\n",
    "for filename in os.listdir(intoxicated_data_dir):\n",
    "    if filename.endswith('.dat'):\n",
    "        # Construct the record name (without the .dat extension)\n",
    "        record_name = os.path.join(intoxicated_data_dir, filename[:-4])\n",
    "\n",
    "        try:\n",
    "            # Load ECG data\n",
    "            record = wfdb.rdrecord(record_name)\n",
    "            fs = record.fs  # Sampling frequency\n",
    "\n",
    "            # Detect R-peaks\n",
    "            r_peaks = gqrs_detect(sig=record.p_signal[:, 0], fs=fs)  # Assuming the first channel\n",
    "\n",
    "            # Calculate RR intervals and BPM\n",
    "            rr_intervals = np.diff(r_peaks) / fs  # Convert samples to seconds\n",
    "            bpm_values = 60 / rr_intervals\n",
    "\n",
    "            # Calculate BPM statistics\n",
    "            min_bpm = np.min(bpm_values)\n",
    "            max_bpm = np.max(bpm_values)\n",
    "            avg_bpm = np.mean(bpm_values)\n",
    "\n",
    "            # Append data to list\n",
    "            intoxicated_data.append({\n",
    "                \"ID\": filename[:-4],  # Use the filename (without extension) as ID\n",
    "                \"Date\": datetime.now().date(),  # You can use actual date if available\n",
    "                \"BPM min\": min_bpm,\n",
    "                \"BPM max\": max_bpm,\n",
    "                \"BPM avg\": avg_bpm,\n",
    "                \"Condition\": \"intoxicated\"\n",
    "            })\n",
    "\n",
    "        except Exception as e:\n",
    "            print(f\"Error processing {filename}: {e}\")\n",
    " "
   ],
   "id": "e2b6429e2d674b7b"
  },
  {
   "metadata": {},
   "cell_type": "markdown",
   "source": [
    "### RR Interval\n",
    "\n",
    "The **RR interval** is the time between two consecutive R-wave peaks in an ECG signal, representing the duration of one heartbeat. It’s calculated as the time difference between successive R-waves:\n",
    "\n",
    "$$\n",
    "\\text{RR interval} = \\text{time of R-peak}_{n+1} - \\text{time of R-peak}_n\n",
    "$$\n",
    "\n",
    "### Heart Rate (BPM)\n",
    "\n",
    "The heart rate (beats per minute, BPM) can be derived from the RR interval:\n",
    "\n",
    "$$\n",
    "\\text{BPM} = \\frac{60}{\\text{RR interval in seconds}}\n",
    "$$\n",
    "\n",
    "Shorter RR intervals indicate a faster heart rate, while longer intervals indicate a slower rate.\n",
    "\n",
    "[RR Intervals and Heart Rate Relationship](https://archive.physionet.org/tutorials/hrv/)\n",
    "\n",
    "### Significance\n",
    "\n",
    "- **Heart Rate Variability (HRV)**: Variability in RR intervals reflects heart health and autonomic function.\n",
    "- **Condition Monitoring**: Changes in RR intervals can indicate different physiological states, like resting, exercising, or intoxication.\n"
   ],
   "id": "87f6dc950d9e5226"
  },
  {
   "metadata": {},
   "cell_type": "markdown",
   "source": [
    "# Step 3: Save Extracted Features to CSV\n",
    "After calculating the BPM statistics for each file, save the results in a CSV file, where each row represents an ECG file (recording session) with its features and condition label (e.g., 'intoxicated')."
   ],
   "id": "1bfc566a9550adbd"
  },
  {
   "cell_type": "code",
   "execution_count": null,
   "id": "initial_id",
   "metadata": {
    "collapsed": true
   },
   "outputs": [],
   "source": [
    "# Convert the data list to a DataFrame\n",
    "intoxicated_df = pd.DataFrame(intoxicated_data)\n",
    "\n",
    "# Save the DataFrame to a CSV file\n",
    "output_csv_path = 'intoxicated_bpm_data.csv'\n",
    "intoxicated_df.to_csv(output_csv_path, index=False)\n",
    "\n",
    "print(f\"Intoxicated BPM data saved to {output_csv_path}\")\n"
   ]
  },
  {
   "metadata": {},
   "cell_type": "markdown",
   "source": [
    "# Step 4: Validate and Label Data\n",
    "Check the CSV file to make sure that the extracted features and labels are correct.\n",
    "This CSV file will be labeled as “intoxicated” in the Condition column, so your model will know that these rows represent intoxicated states."
   ],
   "id": "a457ade84d2bcd65"
  },
  {
   "metadata": {},
   "cell_type": "code",
   "outputs": [],
   "execution_count": null,
   "source": "",
   "id": "eae03de82fdda6b0"
  },
  {
   "metadata": {},
   "cell_type": "markdown",
   "source": [
    "# Step 5: Use in Model Training\n",
    "Once you have both normal and intoxicated datasets prepared in separate CSV files, you can combine them into a single training dataset and load them as explained in the previous response.\n"
   ],
   "id": "83ecaeeb346959b1"
  },
  {
   "metadata": {},
   "cell_type": "markdown",
   "source": [
    "# Summary of Improvements\n",
    "\n",
    "1. Multiple Channel Support: Allows selecting a specific ECG channel.\n",
    "2. Date Extraction: Reads the recording date from the JSON file if available.\n",
    "3. R-Peak Check: Skips files with insufficient R-peaks.\n",
    "4. BPM Filtering: Filters out BPM values outside a typical range.\n",
    "5. Intermediate Data Saving: Optionally saves intermediate BPM values for debugging.\n",
    "6. Logging: Logs progress for each file."
   ],
   "id": "a80134d87d7dc953"
  },
  {
   "metadata": {},
   "cell_type": "code",
   "outputs": [],
   "execution_count": null,
   "source": [
    "import os\n",
    "import numpy as np\n",
    "import pandas as pd\n",
    "import wfdb\n",
    "import json\n",
    "from wfdb.processing import gqrs_detect\n",
    "from datetime import datetime\n",
    "\n",
    "# Directory containing the intoxicated ECG files\n",
    "intoxicated_data_dir = 'path/to/intoxicated/data'\n",
    "\n",
    "# Prepare a list to hold the extracted data\n",
    "intoxicated_data = []\n",
    "\n",
    "# Process each ECG file in the directory\n",
    "for filename in os.listdir(intoxicated_data_dir):\n",
    "    if filename.endswith('.dat'):\n",
    "        # Construct the record name (without the .dat extension)\n",
    "        record_name = os.path.join(intoxicated_data_dir, filename[:-4])\n",
    "\n",
    "        try:\n",
    "            # Load ECG data\n",
    "            record = wfdb.rdrecord(record_name)\n",
    "            fs = record.fs  # Sampling frequency\n",
    "            channel_index = 0  # Select the ECG channel to analyze\n",
    "\n",
    "            # Detect R-peaks on the specified channel\n",
    "            r_peaks = gqrs_detect(sig=record.p_signal[:, channel_index], fs=fs)\n",
    "\n",
    "            # Check if enough R-peaks were detected\n",
    "            if len(r_peaks) < 2:\n",
    "                print(f\"Warning: Not enough R-peaks detected in {filename} to calculate BPM.\")\n",
    "                continue  # Skip this file if not enough peaks\n",
    "\n",
    "            # Calculate RR intervals and BPM\n",
    "            rr_intervals = np.diff(r_peaks) / fs  # Convert samples to seconds\n",
    "            bpm_values = 60 / rr_intervals\n",
    "\n",
    "            # Filter out extreme BPM values\n",
    "            bpm_values = bpm_values[(bpm_values > 30) & (bpm_values < 200)]\n",
    "            if len(bpm_values) == 0:\n",
    "                print(f\"No valid BPM values found in {filename} after filtering.\")\n",
    "                continue  # Skip this file if no valid BPM values remain\n",
    "\n",
    "            # Calculate BPM statistics\n",
    "            min_bpm = np.min(bpm_values)\n",
    "            max_bpm = np.max(bpm_values)\n",
    "            avg_bpm = np.mean(bpm_values)\n",
    "\n",
    "            # Load date from JSON if available, otherwise use today's date\n",
    "            json_path = os.path.join(intoxicated_data_dir, filename[:-4] + '.json')\n",
    "            if os.path.exists(json_path):\n",
    "                with open(json_path, 'r') as f:\n",
    "                    metadata = json.load(f)\n",
    "                recording_date = metadata.get(\"recording_date\", datetime.now().date())\n",
    "            else:\n",
    "                recording_date = datetime.now().date()\n",
    "\n",
    "            # Append data to list\n",
    "            intoxicated_data.append({\n",
    "                \"ID\": filename[:-4],\n",
    "                \"Date\": recording_date,\n",
    "                \"BPM min\": min_bpm,\n",
    "                \"BPM max\": max_bpm,\n",
    "                \"BPM avg\": avg_bpm,\n",
    "                \"Condition\": \"intoxicated\"\n",
    "            })\n",
    "\n",
    "            print(f\"Processed file: {filename}\")\n",
    "\n",
    "        except Exception as e:\n",
    "            print(f\"Error processing {filename}: {e}\")\n",
    "\n",
    "# Convert the data list to a DataFrame\n",
    "intoxicated_df = pd.DataFrame(intoxicated_data)\n",
    "\n",
    "# Save the DataFrame to a CSV file\n",
    "output_csv_path = 'intoxicated_bpm_data.csv'\n",
    "intoxicated_df.to_csv(output_csv_path, index=False)\n",
    "\n",
    "print(f\"Intoxicated BPM data saved to {output_csv_path}\")\n"
   ],
   "id": "bd96b9ce9e2c711e"
  }
 ],
 "metadata": {
  "kernelspec": {
   "display_name": "Python 3",
   "language": "python",
   "name": "python3"
  },
  "language_info": {
   "codemirror_mode": {
    "name": "ipython",
    "version": 2
   },
   "file_extension": ".py",
   "mimetype": "text/x-python",
   "name": "python",
   "nbconvert_exporter": "python",
   "pygments_lexer": "ipython2",
   "version": "2.7.6"
  }
 },
 "nbformat": 4,
 "nbformat_minor": 5
}
